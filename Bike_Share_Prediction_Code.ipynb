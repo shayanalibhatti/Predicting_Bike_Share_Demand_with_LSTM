{
 "cells": [
  {
   "cell_type": "markdown",
   "metadata": {},
   "source": [
    "#### In this exercise, bike share data is used from https://archive.ics.uci.edu/ml/datasets/Bike+Sharing+Dataset to predict hourly Bike Share Count \"cnt\" from the available data in the dataset"
   ]
  },
  {
   "cell_type": "code",
   "execution_count": 1,
   "metadata": {},
   "outputs": [],
   "source": [
    "#### IMPORTS\n",
    "\n",
    "import pandas as pd\n",
    "import numpy as np\n",
    "import tensorflow as tf\n",
    "import warnings\n",
    "import requests\n",
    "import matplotlib.pyplot as plt\n",
    "import seaborn as sns\n",
    "import warnings\n",
    "\n",
    "from tensorflow import keras\n",
    "from zipfile import ZipFile\n",
    "from urllib.request import urlopen\n",
    "from urllib.error import HTTPError\n",
    "from sklearn.model_selection import train_test_split\n",
    "from sklearn.preprocessing import StandardScaler\n",
    "from sklearn.metrics import mean_squared_log_error, mean_squared_error, mean_absolute_error\n",
    "from sklearn.exceptions import DataConversionWarning\n",
    "\n",
    "#### TURNING OFF WARNINGS\n",
    "\n",
    "# Turning off DataConversion warning\n",
    "warnings.filterwarnings(action='ignore', category=DataConversionWarning)\n",
    "# Turning off keras warnings\n",
    "tf.logging.set_verbosity(tf.logging.ERROR)\n",
    "# Turning off the chained assignment warning\n",
    "pd.options.mode.chained_assignment = None\n",
    "\n",
    "# Fixing random number generator's seed to get reproducible results\n",
    "\n",
    "tf.random.set_random_seed(20)\n",
    "np.random.seed(20)"
   ]
  },
  {
   "cell_type": "code",
   "execution_count": 2,
   "metadata": {},
   "outputs": [],
   "source": [
    "def get_dataset():        \n",
    "    \n",
    "    \"\"\"Checks existance of dataset and gets it if it exists at given URL\n",
    "\n",
    "    Returns: \n",
    "        * Data frame if dataset exists online or else prints error\n",
    "\n",
    "    \"\"\"\n",
    "    \n",
    "    try:\n",
    "        url=\"https://archive.ics.uci.edu/ml/machine-learning-databases/00275/Bike-Sharing-Dataset.zip\"\n",
    "        url = urlopen(url)\n",
    "        \n",
    "        # download Bike-Sharing-Dataset.zip from URL\n",
    "        bike_share_zip_file=open('Bike-Sharing-Dataset.zip','wb')\n",
    "        bike_share_zip_file.write(url.read())\n",
    "        bike_share_zip_file.close()\n",
    "        \n",
    "        # Here, we store the hour.csv file in dataframe and return it\n",
    "        with ZipFile(\"Bike-Sharing-Dataset.zip\", \"r\") as f:\n",
    "            if \"hour.csv\" in f.namelist():\n",
    "                zip_file_object = ZipFile('Bike-Sharing-Dataset.zip') \n",
    "                # Here we make dteday as index column\n",
    "                hour_csv_dataframe = pd.read_csv(zip_file_object.open('hour.csv'),parse_dates=['dteday'],index_col=\"dteday\")\n",
    "                return hour_csv_dataframe\n",
    "            else:\n",
    "                print(\"Sorry, could not find hour.csv file in zip file. Please recheck file name\")\n",
    "    except HTTPError:\n",
    "        print(\"Sorry, could not connect or find the file at url\", url)"
   ]
  },
  {
   "cell_type": "markdown",
   "metadata": {},
   "source": [
    "#### Here we check dataset existance and read the dataset into a pandas dataframe called \"data\""
   ]
  },
  {
   "cell_type": "code",
   "execution_count": 3,
   "metadata": {},
   "outputs": [],
   "source": [
    "# data variable below, contains hour.csv file as dataFrame\n",
    "data = get_dataset()"
   ]
  },
  {
   "cell_type": "code",
   "execution_count": 4,
   "metadata": {},
   "outputs": [
    {
     "name": "stdout",
     "output_type": "stream",
     "text": [
      "We have 17379 rows and 16 columns in our data\n"
     ]
    }
   ],
   "source": [
    "print(\"We have\", data.shape[0], \"rows and\", data.shape[1], \"columns in our data\")"
   ]
  },
  {
   "cell_type": "markdown",
   "metadata": {},
   "source": [
    "#### Following provides a glance at our data"
   ]
  },
  {
   "cell_type": "code",
   "execution_count": 5,
   "metadata": {},
   "outputs": [
    {
     "data": {
      "text/html": [
       "<div>\n",
       "<style scoped>\n",
       "    .dataframe tbody tr th:only-of-type {\n",
       "        vertical-align: middle;\n",
       "    }\n",
       "\n",
       "    .dataframe tbody tr th {\n",
       "        vertical-align: top;\n",
       "    }\n",
       "\n",
       "    .dataframe thead th {\n",
       "        text-align: right;\n",
       "    }\n",
       "</style>\n",
       "<table border=\"1\" class=\"dataframe\">\n",
       "  <thead>\n",
       "    <tr style=\"text-align: right;\">\n",
       "      <th></th>\n",
       "      <th>instant</th>\n",
       "      <th>season</th>\n",
       "      <th>yr</th>\n",
       "      <th>mnth</th>\n",
       "      <th>hr</th>\n",
       "      <th>holiday</th>\n",
       "      <th>weekday</th>\n",
       "      <th>workingday</th>\n",
       "      <th>weathersit</th>\n",
       "      <th>temp</th>\n",
       "      <th>atemp</th>\n",
       "      <th>hum</th>\n",
       "      <th>windspeed</th>\n",
       "      <th>casual</th>\n",
       "      <th>registered</th>\n",
       "      <th>cnt</th>\n",
       "    </tr>\n",
       "    <tr>\n",
       "      <th>dteday</th>\n",
       "      <th></th>\n",
       "      <th></th>\n",
       "      <th></th>\n",
       "      <th></th>\n",
       "      <th></th>\n",
       "      <th></th>\n",
       "      <th></th>\n",
       "      <th></th>\n",
       "      <th></th>\n",
       "      <th></th>\n",
       "      <th></th>\n",
       "      <th></th>\n",
       "      <th></th>\n",
       "      <th></th>\n",
       "      <th></th>\n",
       "      <th></th>\n",
       "    </tr>\n",
       "  </thead>\n",
       "  <tbody>\n",
       "    <tr>\n",
       "      <th>2011-01-01</th>\n",
       "      <td>1</td>\n",
       "      <td>1</td>\n",
       "      <td>0</td>\n",
       "      <td>1</td>\n",
       "      <td>0</td>\n",
       "      <td>0</td>\n",
       "      <td>6</td>\n",
       "      <td>0</td>\n",
       "      <td>1</td>\n",
       "      <td>0.24</td>\n",
       "      <td>0.2879</td>\n",
       "      <td>0.81</td>\n",
       "      <td>0.0</td>\n",
       "      <td>3</td>\n",
       "      <td>13</td>\n",
       "      <td>16</td>\n",
       "    </tr>\n",
       "    <tr>\n",
       "      <th>2011-01-01</th>\n",
       "      <td>2</td>\n",
       "      <td>1</td>\n",
       "      <td>0</td>\n",
       "      <td>1</td>\n",
       "      <td>1</td>\n",
       "      <td>0</td>\n",
       "      <td>6</td>\n",
       "      <td>0</td>\n",
       "      <td>1</td>\n",
       "      <td>0.22</td>\n",
       "      <td>0.2727</td>\n",
       "      <td>0.80</td>\n",
       "      <td>0.0</td>\n",
       "      <td>8</td>\n",
       "      <td>32</td>\n",
       "      <td>40</td>\n",
       "    </tr>\n",
       "    <tr>\n",
       "      <th>2011-01-01</th>\n",
       "      <td>3</td>\n",
       "      <td>1</td>\n",
       "      <td>0</td>\n",
       "      <td>1</td>\n",
       "      <td>2</td>\n",
       "      <td>0</td>\n",
       "      <td>6</td>\n",
       "      <td>0</td>\n",
       "      <td>1</td>\n",
       "      <td>0.22</td>\n",
       "      <td>0.2727</td>\n",
       "      <td>0.80</td>\n",
       "      <td>0.0</td>\n",
       "      <td>5</td>\n",
       "      <td>27</td>\n",
       "      <td>32</td>\n",
       "    </tr>\n",
       "    <tr>\n",
       "      <th>2011-01-01</th>\n",
       "      <td>4</td>\n",
       "      <td>1</td>\n",
       "      <td>0</td>\n",
       "      <td>1</td>\n",
       "      <td>3</td>\n",
       "      <td>0</td>\n",
       "      <td>6</td>\n",
       "      <td>0</td>\n",
       "      <td>1</td>\n",
       "      <td>0.24</td>\n",
       "      <td>0.2879</td>\n",
       "      <td>0.75</td>\n",
       "      <td>0.0</td>\n",
       "      <td>3</td>\n",
       "      <td>10</td>\n",
       "      <td>13</td>\n",
       "    </tr>\n",
       "    <tr>\n",
       "      <th>2011-01-01</th>\n",
       "      <td>5</td>\n",
       "      <td>1</td>\n",
       "      <td>0</td>\n",
       "      <td>1</td>\n",
       "      <td>4</td>\n",
       "      <td>0</td>\n",
       "      <td>6</td>\n",
       "      <td>0</td>\n",
       "      <td>1</td>\n",
       "      <td>0.24</td>\n",
       "      <td>0.2879</td>\n",
       "      <td>0.75</td>\n",
       "      <td>0.0</td>\n",
       "      <td>0</td>\n",
       "      <td>1</td>\n",
       "      <td>1</td>\n",
       "    </tr>\n",
       "  </tbody>\n",
       "</table>\n",
       "</div>"
      ],
      "text/plain": [
       "            instant  season  yr  mnth  hr  holiday  weekday  workingday  \\\n",
       "dteday                                                                    \n",
       "2011-01-01        1       1   0     1   0        0        6           0   \n",
       "2011-01-01        2       1   0     1   1        0        6           0   \n",
       "2011-01-01        3       1   0     1   2        0        6           0   \n",
       "2011-01-01        4       1   0     1   3        0        6           0   \n",
       "2011-01-01        5       1   0     1   4        0        6           0   \n",
       "\n",
       "            weathersit  temp   atemp   hum  windspeed  casual  registered  cnt  \n",
       "dteday                                                                          \n",
       "2011-01-01           1  0.24  0.2879  0.81        0.0       3          13   16  \n",
       "2011-01-01           1  0.22  0.2727  0.80        0.0       8          32   40  \n",
       "2011-01-01           1  0.22  0.2727  0.80        0.0       5          27   32  \n",
       "2011-01-01           1  0.24  0.2879  0.75        0.0       3          10   13  \n",
       "2011-01-01           1  0.24  0.2879  0.75        0.0       0           1    1  "
      ]
     },
     "execution_count": 5,
     "metadata": {},
     "output_type": "execute_result"
    }
   ],
   "source": [
    "data.head()"
   ]
  },
  {
   "cell_type": "markdown",
   "metadata": {},
   "source": [
    "## Data Analysis"
   ]
  },
  {
   "cell_type": "markdown",
   "metadata": {},
   "source": [
    "#### To get some mathematical stats on our data, we describe it as follows:"
   ]
  },
  {
   "cell_type": "code",
   "execution_count": 6,
   "metadata": {},
   "outputs": [
    {
     "data": {
      "text/html": [
       "<div>\n",
       "<style scoped>\n",
       "    .dataframe tbody tr th:only-of-type {\n",
       "        vertical-align: middle;\n",
       "    }\n",
       "\n",
       "    .dataframe tbody tr th {\n",
       "        vertical-align: top;\n",
       "    }\n",
       "\n",
       "    .dataframe thead th {\n",
       "        text-align: right;\n",
       "    }\n",
       "</style>\n",
       "<table border=\"1\" class=\"dataframe\">\n",
       "  <thead>\n",
       "    <tr style=\"text-align: right;\">\n",
       "      <th></th>\n",
       "      <th>instant</th>\n",
       "      <th>season</th>\n",
       "      <th>yr</th>\n",
       "      <th>mnth</th>\n",
       "      <th>hr</th>\n",
       "      <th>holiday</th>\n",
       "      <th>weekday</th>\n",
       "      <th>workingday</th>\n",
       "      <th>weathersit</th>\n",
       "      <th>temp</th>\n",
       "      <th>atemp</th>\n",
       "      <th>hum</th>\n",
       "      <th>windspeed</th>\n",
       "      <th>casual</th>\n",
       "      <th>registered</th>\n",
       "      <th>cnt</th>\n",
       "    </tr>\n",
       "  </thead>\n",
       "  <tbody>\n",
       "    <tr>\n",
       "      <th>count</th>\n",
       "      <td>17379.0000</td>\n",
       "      <td>17379.000000</td>\n",
       "      <td>17379.000000</td>\n",
       "      <td>17379.000000</td>\n",
       "      <td>17379.000000</td>\n",
       "      <td>17379.000000</td>\n",
       "      <td>17379.000000</td>\n",
       "      <td>17379.000000</td>\n",
       "      <td>17379.000000</td>\n",
       "      <td>17379.000000</td>\n",
       "      <td>17379.000000</td>\n",
       "      <td>17379.000000</td>\n",
       "      <td>17379.000000</td>\n",
       "      <td>17379.000000</td>\n",
       "      <td>17379.000000</td>\n",
       "      <td>17379.000000</td>\n",
       "    </tr>\n",
       "    <tr>\n",
       "      <th>mean</th>\n",
       "      <td>8690.0000</td>\n",
       "      <td>2.501640</td>\n",
       "      <td>0.502561</td>\n",
       "      <td>6.537775</td>\n",
       "      <td>11.546752</td>\n",
       "      <td>0.028770</td>\n",
       "      <td>3.003683</td>\n",
       "      <td>0.682721</td>\n",
       "      <td>1.425283</td>\n",
       "      <td>0.496987</td>\n",
       "      <td>0.475775</td>\n",
       "      <td>0.627229</td>\n",
       "      <td>0.190098</td>\n",
       "      <td>35.676218</td>\n",
       "      <td>153.786869</td>\n",
       "      <td>189.463088</td>\n",
       "    </tr>\n",
       "    <tr>\n",
       "      <th>std</th>\n",
       "      <td>5017.0295</td>\n",
       "      <td>1.106918</td>\n",
       "      <td>0.500008</td>\n",
       "      <td>3.438776</td>\n",
       "      <td>6.914405</td>\n",
       "      <td>0.167165</td>\n",
       "      <td>2.005771</td>\n",
       "      <td>0.465431</td>\n",
       "      <td>0.639357</td>\n",
       "      <td>0.192556</td>\n",
       "      <td>0.171850</td>\n",
       "      <td>0.192930</td>\n",
       "      <td>0.122340</td>\n",
       "      <td>49.305030</td>\n",
       "      <td>151.357286</td>\n",
       "      <td>181.387599</td>\n",
       "    </tr>\n",
       "    <tr>\n",
       "      <th>min</th>\n",
       "      <td>1.0000</td>\n",
       "      <td>1.000000</td>\n",
       "      <td>0.000000</td>\n",
       "      <td>1.000000</td>\n",
       "      <td>0.000000</td>\n",
       "      <td>0.000000</td>\n",
       "      <td>0.000000</td>\n",
       "      <td>0.000000</td>\n",
       "      <td>1.000000</td>\n",
       "      <td>0.020000</td>\n",
       "      <td>0.000000</td>\n",
       "      <td>0.000000</td>\n",
       "      <td>0.000000</td>\n",
       "      <td>0.000000</td>\n",
       "      <td>0.000000</td>\n",
       "      <td>1.000000</td>\n",
       "    </tr>\n",
       "    <tr>\n",
       "      <th>25%</th>\n",
       "      <td>4345.5000</td>\n",
       "      <td>2.000000</td>\n",
       "      <td>0.000000</td>\n",
       "      <td>4.000000</td>\n",
       "      <td>6.000000</td>\n",
       "      <td>0.000000</td>\n",
       "      <td>1.000000</td>\n",
       "      <td>0.000000</td>\n",
       "      <td>1.000000</td>\n",
       "      <td>0.340000</td>\n",
       "      <td>0.333300</td>\n",
       "      <td>0.480000</td>\n",
       "      <td>0.104500</td>\n",
       "      <td>4.000000</td>\n",
       "      <td>34.000000</td>\n",
       "      <td>40.000000</td>\n",
       "    </tr>\n",
       "    <tr>\n",
       "      <th>50%</th>\n",
       "      <td>8690.0000</td>\n",
       "      <td>3.000000</td>\n",
       "      <td>1.000000</td>\n",
       "      <td>7.000000</td>\n",
       "      <td>12.000000</td>\n",
       "      <td>0.000000</td>\n",
       "      <td>3.000000</td>\n",
       "      <td>1.000000</td>\n",
       "      <td>1.000000</td>\n",
       "      <td>0.500000</td>\n",
       "      <td>0.484800</td>\n",
       "      <td>0.630000</td>\n",
       "      <td>0.194000</td>\n",
       "      <td>17.000000</td>\n",
       "      <td>115.000000</td>\n",
       "      <td>142.000000</td>\n",
       "    </tr>\n",
       "    <tr>\n",
       "      <th>75%</th>\n",
       "      <td>13034.5000</td>\n",
       "      <td>3.000000</td>\n",
       "      <td>1.000000</td>\n",
       "      <td>10.000000</td>\n",
       "      <td>18.000000</td>\n",
       "      <td>0.000000</td>\n",
       "      <td>5.000000</td>\n",
       "      <td>1.000000</td>\n",
       "      <td>2.000000</td>\n",
       "      <td>0.660000</td>\n",
       "      <td>0.621200</td>\n",
       "      <td>0.780000</td>\n",
       "      <td>0.253700</td>\n",
       "      <td>48.000000</td>\n",
       "      <td>220.000000</td>\n",
       "      <td>281.000000</td>\n",
       "    </tr>\n",
       "    <tr>\n",
       "      <th>max</th>\n",
       "      <td>17379.0000</td>\n",
       "      <td>4.000000</td>\n",
       "      <td>1.000000</td>\n",
       "      <td>12.000000</td>\n",
       "      <td>23.000000</td>\n",
       "      <td>1.000000</td>\n",
       "      <td>6.000000</td>\n",
       "      <td>1.000000</td>\n",
       "      <td>4.000000</td>\n",
       "      <td>1.000000</td>\n",
       "      <td>1.000000</td>\n",
       "      <td>1.000000</td>\n",
       "      <td>0.850700</td>\n",
       "      <td>367.000000</td>\n",
       "      <td>886.000000</td>\n",
       "      <td>977.000000</td>\n",
       "    </tr>\n",
       "  </tbody>\n",
       "</table>\n",
       "</div>"
      ],
      "text/plain": [
       "          instant        season            yr          mnth            hr  \\\n",
       "count  17379.0000  17379.000000  17379.000000  17379.000000  17379.000000   \n",
       "mean    8690.0000      2.501640      0.502561      6.537775     11.546752   \n",
       "std     5017.0295      1.106918      0.500008      3.438776      6.914405   \n",
       "min        1.0000      1.000000      0.000000      1.000000      0.000000   \n",
       "25%     4345.5000      2.000000      0.000000      4.000000      6.000000   \n",
       "50%     8690.0000      3.000000      1.000000      7.000000     12.000000   \n",
       "75%    13034.5000      3.000000      1.000000     10.000000     18.000000   \n",
       "max    17379.0000      4.000000      1.000000     12.000000     23.000000   \n",
       "\n",
       "            holiday       weekday    workingday    weathersit          temp  \\\n",
       "count  17379.000000  17379.000000  17379.000000  17379.000000  17379.000000   \n",
       "mean       0.028770      3.003683      0.682721      1.425283      0.496987   \n",
       "std        0.167165      2.005771      0.465431      0.639357      0.192556   \n",
       "min        0.000000      0.000000      0.000000      1.000000      0.020000   \n",
       "25%        0.000000      1.000000      0.000000      1.000000      0.340000   \n",
       "50%        0.000000      3.000000      1.000000      1.000000      0.500000   \n",
       "75%        0.000000      5.000000      1.000000      2.000000      0.660000   \n",
       "max        1.000000      6.000000      1.000000      4.000000      1.000000   \n",
       "\n",
       "              atemp           hum     windspeed        casual    registered  \\\n",
       "count  17379.000000  17379.000000  17379.000000  17379.000000  17379.000000   \n",
       "mean       0.475775      0.627229      0.190098     35.676218    153.786869   \n",
       "std        0.171850      0.192930      0.122340     49.305030    151.357286   \n",
       "min        0.000000      0.000000      0.000000      0.000000      0.000000   \n",
       "25%        0.333300      0.480000      0.104500      4.000000     34.000000   \n",
       "50%        0.484800      0.630000      0.194000     17.000000    115.000000   \n",
       "75%        0.621200      0.780000      0.253700     48.000000    220.000000   \n",
       "max        1.000000      1.000000      0.850700    367.000000    886.000000   \n",
       "\n",
       "                cnt  \n",
       "count  17379.000000  \n",
       "mean     189.463088  \n",
       "std      181.387599  \n",
       "min        1.000000  \n",
       "25%       40.000000  \n",
       "50%      142.000000  \n",
       "75%      281.000000  \n",
       "max      977.000000  "
      ]
     },
     "execution_count": 6,
     "metadata": {},
     "output_type": "execute_result"
    }
   ],
   "source": [
    "data.describe()"
   ]
  },
  {
   "cell_type": "markdown",
   "metadata": {},
   "source": [
    "#### To graphically observe useful insights displayed by the data, I plot some charts as follows:"
   ]
  },
  {
   "cell_type": "code",
   "execution_count": 7,
   "metadata": {},
   "outputs": [
    {
     "data": {
      "text/plain": [
       "[Text(0, 0.5, 'Count'),\n",
       " Text(0.5, 0, 'Temperature'),\n",
       " Text(0.5, 1.0, 'Box Plot On Count Across Temperature')]"
      ]
     },
     "execution_count": 7,
     "metadata": {},
     "output_type": "execute_result"
    },
    {
     "data": {
      "image/png": "[encoded data removed]",
      "text/plain": [
       "<Figure size 1080x1080 with 6 Axes>"
      ]
     },
     "metadata": {},
     "output_type": "display_data"
    }
   ],
   "source": [
    "sns.set(font_scale=0.8)\n",
    "fig, axes = plt.subplots(nrows=3,ncols=2)\n",
    "fig.set_size_inches(15, 15)\n",
    "sns.boxplot(data=data,y=\"cnt\",orient=\"v\",ax=axes[0][0])\n",
    "sns.boxplot(data=data,y=\"cnt\",x=\"mnth\",orient=\"v\",ax=axes[0][1])\n",
    "sns.boxplot(data=data,y=\"cnt\",x=\"weathersit\",orient=\"v\",ax=axes[1][0])\n",
    "sns.boxplot(data=data,y=\"cnt\",x=\"workingday\",orient=\"v\",ax=axes[1][1])\n",
    "sns.boxplot(data=data,y=\"cnt\",x=\"hr\",orient=\"v\",ax=axes[2][0])\n",
    "ax = sns.boxplot(data=data,y=\"cnt\",x=\"temp\",orient=\"v\")\n",
    "ax.set_xticklabels(ax.get_xticklabels(),rotation=90)\n",
    "axes[0][0].set(ylabel='Count',title=\"Box Plot On Count\")\n",
    "axes[0][1].set(xlabel='Month', ylabel='Count',title=\"Box Plot On Count Across Months\")\n",
    "axes[1][0].set(xlabel='Weather Situation', ylabel='Count',title=\"Box Plot On Count Across Weather Situations\")\n",
    "axes[1][1].set(xlabel='Working Day', ylabel='Count',title=\"Box Plot On Count Across Working Day\")\n",
    "axes[2][0].set(xlabel='Hour Of The Day', ylabel='Count',title=\"Box Plot On Count Across Hour Of The Day\")\n",
    "axes[2][1].set(xlabel='Temperature', ylabel='Count',title=\"Box Plot On Count Across Temperature\")\n"
   ]
  },
  {
   "cell_type": "markdown",
   "metadata": {},
   "source": [
    "## Observations:\n",
    "#### 1) Plot 1 shows that most of the \"cnt\" values fall between 40 to 280 however there are a lot of outliers too.\n",
    "#### 2) Plot 2 shows that January had the least amount of bike shares whereas in summer season bike share was high\n",
    "#### 3) Plot 3 shows that when weather was clear bike share was maximum, when misty, it was less, when light snow it was lesser and when heavy rain, it was least.\n",
    "#### 4) Plot 4 shows that on weekends, bike share was a bit less compared to weekdays.\n",
    "#### 5) Plot 5 shows that ride share is high from 7 to 9 am then from 4 to 8pm which makes sense as 7 to 9am and 4 to 8pm are school/office going and leaving time respectively. \n",
    "#### 6) Plot 6 shows that the higher the temperature, the higher the ride share."
   ]
  },
  {
   "cell_type": "markdown",
   "metadata": {},
   "source": [
    "## Preprocessing:"
   ]
  },
  {
   "cell_type": "markdown",
   "metadata": {},
   "source": [
    "#### It is obvious that \"instant\" column is just a count of data values and atemp is normalized temperature which we dont need for prediction since we have temp, hence we drop instant and atemp. Also, we skip column \"weekday\", \"casual\" and \"registered\" as they dont seem to have influence on our prediction. Casual shows users who casually use the bikes and registered shows users who are registered, we skip both."
   ]
  },
  {
   "cell_type": "code",
   "execution_count": 8,
   "metadata": {},
   "outputs": [],
   "source": [
    "data=data.drop(columns=['instant','atemp','weekday','casual','registered'])"
   ]
  },
  {
   "cell_type": "markdown",
   "metadata": {},
   "source": [
    "#### Remove null values from our dataframe if they are present by dropping them"
   ]
  },
  {
   "cell_type": "code",
   "execution_count": 9,
   "metadata": {},
   "outputs": [],
   "source": [
    "data=data.dropna()"
   ]
  },
  {
   "cell_type": "code",
   "execution_count": 10,
   "metadata": {},
   "outputs": [
    {
     "data": {
      "text/html": [
       "<div>\n",
       "<style scoped>\n",
       "    .dataframe tbody tr th:only-of-type {\n",
       "        vertical-align: middle;\n",
       "    }\n",
       "\n",
       "    .dataframe tbody tr th {\n",
       "        vertical-align: top;\n",
       "    }\n",
       "\n",
       "    .dataframe thead th {\n",
       "        text-align: right;\n",
       "    }\n",
       "</style>\n",
       "<table border=\"1\" class=\"dataframe\">\n",
       "  <thead>\n",
       "    <tr style=\"text-align: right;\">\n",
       "      <th></th>\n",
       "      <th>season</th>\n",
       "      <th>yr</th>\n",
       "      <th>mnth</th>\n",
       "      <th>hr</th>\n",
       "      <th>holiday</th>\n",
       "      <th>workingday</th>\n",
       "      <th>weathersit</th>\n",
       "      <th>temp</th>\n",
       "      <th>hum</th>\n",
       "      <th>windspeed</th>\n",
       "      <th>cnt</th>\n",
       "    </tr>\n",
       "    <tr>\n",
       "      <th>dteday</th>\n",
       "      <th></th>\n",
       "      <th></th>\n",
       "      <th></th>\n",
       "      <th></th>\n",
       "      <th></th>\n",
       "      <th></th>\n",
       "      <th></th>\n",
       "      <th></th>\n",
       "      <th></th>\n",
       "      <th></th>\n",
       "      <th></th>\n",
       "    </tr>\n",
       "  </thead>\n",
       "  <tbody>\n",
       "    <tr>\n",
       "      <th>2011-01-01</th>\n",
       "      <td>1</td>\n",
       "      <td>0</td>\n",
       "      <td>1</td>\n",
       "      <td>0</td>\n",
       "      <td>0</td>\n",
       "      <td>0</td>\n",
       "      <td>1</td>\n",
       "      <td>0.24</td>\n",
       "      <td>0.81</td>\n",
       "      <td>0.0</td>\n",
       "      <td>16</td>\n",
       "    </tr>\n",
       "    <tr>\n",
       "      <th>2011-01-01</th>\n",
       "      <td>1</td>\n",
       "      <td>0</td>\n",
       "      <td>1</td>\n",
       "      <td>1</td>\n",
       "      <td>0</td>\n",
       "      <td>0</td>\n",
       "      <td>1</td>\n",
       "      <td>0.22</td>\n",
       "      <td>0.80</td>\n",
       "      <td>0.0</td>\n",
       "      <td>40</td>\n",
       "    </tr>\n",
       "    <tr>\n",
       "      <th>2011-01-01</th>\n",
       "      <td>1</td>\n",
       "      <td>0</td>\n",
       "      <td>1</td>\n",
       "      <td>2</td>\n",
       "      <td>0</td>\n",
       "      <td>0</td>\n",
       "      <td>1</td>\n",
       "      <td>0.22</td>\n",
       "      <td>0.80</td>\n",
       "      <td>0.0</td>\n",
       "      <td>32</td>\n",
       "    </tr>\n",
       "    <tr>\n",
       "      <th>2011-01-01</th>\n",
       "      <td>1</td>\n",
       "      <td>0</td>\n",
       "      <td>1</td>\n",
       "      <td>3</td>\n",
       "      <td>0</td>\n",
       "      <td>0</td>\n",
       "      <td>1</td>\n",
       "      <td>0.24</td>\n",
       "      <td>0.75</td>\n",
       "      <td>0.0</td>\n",
       "      <td>13</td>\n",
       "    </tr>\n",
       "    <tr>\n",
       "      <th>2011-01-01</th>\n",
       "      <td>1</td>\n",
       "      <td>0</td>\n",
       "      <td>1</td>\n",
       "      <td>4</td>\n",
       "      <td>0</td>\n",
       "      <td>0</td>\n",
       "      <td>1</td>\n",
       "      <td>0.24</td>\n",
       "      <td>0.75</td>\n",
       "      <td>0.0</td>\n",
       "      <td>1</td>\n",
       "    </tr>\n",
       "  </tbody>\n",
       "</table>\n",
       "</div>"
      ],
      "text/plain": [
       "            season  yr  mnth  hr  holiday  workingday  weathersit  temp   hum  \\\n",
       "dteday                                                                          \n",
       "2011-01-01       1   0     1   0        0           0           1  0.24  0.81   \n",
       "2011-01-01       1   0     1   1        0           0           1  0.22  0.80   \n",
       "2011-01-01       1   0     1   2        0           0           1  0.22  0.80   \n",
       "2011-01-01       1   0     1   3        0           0           1  0.24  0.75   \n",
       "2011-01-01       1   0     1   4        0           0           1  0.24  0.75   \n",
       "\n",
       "            windspeed  cnt  \n",
       "dteday                      \n",
       "2011-01-01        0.0   16  \n",
       "2011-01-01        0.0   40  \n",
       "2011-01-01        0.0   32  \n",
       "2011-01-01        0.0   13  \n",
       "2011-01-01        0.0    1  "
      ]
     },
     "execution_count": 10,
     "metadata": {},
     "output_type": "execute_result"
    }
   ],
   "source": [
    "data.head()"
   ]
  },
  {
   "cell_type": "markdown",
   "metadata": {},
   "source": [
    "#### I splitted 90% of data as training and 10% as test set "
   ]
  },
  {
   "cell_type": "code",
   "execution_count": 11,
   "metadata": {},
   "outputs": [
    {
     "name": "stdout",
     "output_type": "stream",
     "text": [
      "Length of training set is 15641\n",
      "Length of test set is 1738\n"
     ]
    }
   ],
   "source": [
    "training_set_size = int(len(data)*0.9)\n",
    "test_set_size = len(data)-training_set_size\n",
    "training_set,test_set = data.iloc[0:training_set_size],data.iloc[training_set_size:len(data)]\n",
    "print(\"Length of training set is\", len(training_set))    \n",
    "print(\"Length of test set is\",len(test_set))"
   ]
  },
  {
   "cell_type": "markdown",
   "metadata": {},
   "source": [
    "#### Scaling continuous data optimizes machine learning model performance. I scaled temperature, humidity and windspeed to have mean 0 and standard deviation 1. This process optimizes machine learning model's performance and model converges quicker."
   ]
  },
  {
   "cell_type": "code",
   "execution_count": 12,
   "metadata": {},
   "outputs": [],
   "source": [
    "columns_to_scale = ['temp','hum','windspeed']\n",
    "temp_hum_wind_transformer = StandardScaler().fit(training_set[columns_to_scale].to_numpy())\n",
    "cnt_transformer = StandardScaler().fit(training_set[['cnt']])\n",
    "\n",
    "training_set.loc[:,columns_to_scale] = temp_hum_wind_transformer.transform(training_set[columns_to_scale].to_numpy())\n",
    "training_set['cnt'] = cnt_transformer.transform(training_set[['cnt']])\n",
    "\n",
    "test_set.loc[:,columns_to_scale] = temp_hum_wind_transformer.transform(test_set[columns_to_scale].to_numpy())\n",
    "test_set['cnt'] = cnt_transformer.transform(test_set[['cnt']])"
   ]
  },
  {
   "cell_type": "markdown",
   "metadata": {},
   "source": [
    "#### This module is used to transform the dataset into sequence of timesteps. For example, I use '7' timesteps to predict one next output value"
   ]
  },
  {
   "cell_type": "code",
   "execution_count": 13,
   "metadata": {},
   "outputs": [],
   "source": [
    "def create_data_sequence(X, y, time_steps=1):\n",
    "    \"\"\" Create data sequence\n",
    "    \n",
    "    Arguments:\n",
    "        * X: time-series data\n",
    "        * y: Count \"cnt\" value\n",
    "        * time_steps: Used to create input sequence of timesteps\n",
    "    \n",
    "    Returns:\n",
    "        * input_sequence: Numpy array of sequences of time-series data\n",
    "        * output: Numpy array of output i.e. next value for respective sequence\n",
    "    \n",
    "    \"\"\"\n",
    "    input_sequence, output = [], []\n",
    "    for i in range(len(X) - time_steps):\n",
    "        sequence = X.iloc[i:(i + time_steps)].values\n",
    "        input_sequence.append(sequence)        \n",
    "        output.append(y.iloc[i + time_steps])\n",
    "    return np.array(input_sequence), np.array(output)"
   ]
  },
  {
   "cell_type": "markdown",
   "metadata": {},
   "source": [
    "#### Here I define timesteps as 7 and create our training and test sets as numpy arrays since keras takes data as numpy arrays"
   ]
  },
  {
   "cell_type": "code",
   "execution_count": 14,
   "metadata": {},
   "outputs": [
    {
     "name": "stdout",
     "output_type": "stream",
     "text": [
      "Training data shape (15634, 7, 11) Training data output shape (15634,)\n",
      "Test data shape (1731, 7, 11) Test data output shape (1731,)\n"
     ]
    }
   ],
   "source": [
    "time_steps = 7\n",
    "\n",
    "# Here training_set_sequence, test_set_sequence are input features for training and test set, as numpy arrays. \n",
    "# training_set_output and test_set_output are \"cnt\" values for training and test set sequences, as numpy arrays.\n",
    "training_set_sequence, training_set_output = create_data_sequence(training_set, training_set.cnt, time_steps)\n",
    "test_set_sequence, test_set_output = create_data_sequence(test_set, test_set.cnt, time_steps)\n",
    "\n",
    "# We get training and test set sequences as [samples, time_steps, n_features]\n",
    "\n",
    "print(\"Training data shape\", training_set_sequence.shape, \"Training data output shape\", training_set_output.shape)\n",
    "print(\"Test data shape\", test_set_sequence.shape, \"Test data output shape\", test_set_output.shape)"
   ]
  },
  {
   "cell_type": "markdown",
   "metadata": {},
   "source": [
    "## Model Training"
   ]
  },
  {
   "cell_type": "markdown",
   "metadata": {},
   "source": [
    "#### Here I define LSTM model as our machine learning model for predicting bike share demand. Because LSTMS have the ability to capture the sequence in a data, hence I used LSTM. Dropout rate of 20% is used to prevent overfitting. Output is one unit as we are predicting one value of \"cnt\" on basis of input parameters. Since data is continuous, mean square error loss is used."
   ]
  },
  {
   "cell_type": "code",
   "execution_count": 15,
   "metadata": {},
   "outputs": [],
   "source": [
    "def machine_learning_model():\n",
    "    \"\"\"Defines machine learning model\n",
    "    \n",
    "    Returns:\n",
    "        * model: LSTM model\n",
    "    \n",
    "    \"\"\"\n",
    "    model = keras.Sequential()\n",
    "    model.add(keras.layers.LSTM(units=128,input_shape=(training_set_sequence.shape[1], training_set_sequence.shape[2])))\n",
    "    model.add(keras.layers.Dropout(rate=0.2))\n",
    "    model.add(keras.layers.Dense(units=1))\n",
    "    model.compile(loss='mean_squared_error', optimizer='Adam')\n",
    "    model.summary()\n",
    "    return model"
   ]
  },
  {
   "cell_type": "markdown",
   "metadata": {},
   "source": [
    "#### Here I initialize our model and train it with training set, validating it with 10% of data from training set and we dont shuffle data as that would mess the sequence which is important"
   ]
  },
  {
   "cell_type": "code",
   "execution_count": 16,
   "metadata": {},
   "outputs": [
    {
     "name": "stdout",
     "output_type": "stream",
     "text": [
      "_________________________________________________________________\n",
      "Layer (type)                 Output Shape              Param #   \n",
      "=================================================================\n",
      "lstm (LSTM)                  (None, 128)               71680     \n",
      "_________________________________________________________________\n",
      "dropout (Dropout)            (None, 128)               0         \n",
      "_________________________________________________________________\n",
      "dense (Dense)                (None, 1)                 129       \n",
      "=================================================================\n",
      "Total params: 71,809\n",
      "Trainable params: 71,809\n",
      "Non-trainable params: 0\n",
      "_________________________________________________________________\n",
      "Train on 14070 samples, validate on 1564 samples\n",
      "Epoch 1/5\n",
      "14070/14070 [==============================] - 19s 1ms/sample - loss: 0.3375 - val_loss: 0.4886\n",
      "Epoch 2/5\n",
      "14070/14070 [==============================] - 13s 891us/sample - loss: 0.1885 - val_loss: 0.3011\n",
      "Epoch 3/5\n",
      "14070/14070 [==============================] - 12s 886us/sample - loss: 0.1300 - val_loss: 0.1949\n",
      "Epoch 4/5\n",
      "14070/14070 [==============================] - 13s 890us/sample - loss: 0.1027 - val_loss: 0.1460\n",
      "Epoch 5/5\n",
      "14070/14070 [==============================] - 12s 887us/sample - loss: 0.0841 - val_loss: 0.1265\n"
     ]
    }
   ],
   "source": [
    "model = machine_learning_model()\n",
    "\n",
    "history = model.fit(\n",
    "    training_set_sequence,\n",
    "    training_set_output, \n",
    "    epochs=5, \n",
    "    batch_size=64, \n",
    "    validation_split=0.1,\n",
    "    shuffle=False,\n",
    ")"
   ]
  },
  {
   "cell_type": "markdown",
   "metadata": {},
   "source": [
    "## Results"
   ]
  },
  {
   "cell_type": "markdown",
   "metadata": {},
   "source": [
    "#### Plot the loss value vs EPOCHS for the model"
   ]
  },
  {
   "cell_type": "code",
   "execution_count": 17,
   "metadata": {},
   "outputs": [
    {
     "data": {
      "image/png": "[encoded data removed]",
      "text/plain": [
       "<Figure size 432x288 with 1 Axes>"
      ]
     },
     "metadata": {},
     "output_type": "display_data"
    }
   ],
   "source": [
    "fig,ax = plt.subplots()\n",
    "plt.plot(history.history['loss'], label='training loss')\n",
    "plt.plot(history.history['val_loss'], label='test loss')\n",
    "ax.set_xlabel('EPOCHS')\n",
    "ax.set_ylabel('Loss value')\n",
    "plt.legend();"
   ]
  },
  {
   "cell_type": "markdown",
   "metadata": {},
   "source": [
    "#### Predictions from trained model stored in test_set_prediction variable"
   ]
  },
  {
   "cell_type": "code",
   "execution_count": 18,
   "metadata": {},
   "outputs": [],
   "source": [
    "test_set_predictions = model.predict(test_set_sequence)"
   ]
  },
  {
   "cell_type": "markdown",
   "metadata": {},
   "source": [
    "#### Inverse the scaled Count \"cnt\" values to get original unscaled values "
   ]
  },
  {
   "cell_type": "code",
   "execution_count": 19,
   "metadata": {},
   "outputs": [],
   "source": [
    "model_predictions = cnt_transformer.inverse_transform(test_set_predictions)\n",
    "actual_testset_values = cnt_transformer.inverse_transform(test_set_output)"
   ]
  },
  {
   "cell_type": "markdown",
   "metadata": {},
   "source": [
    "#### Following plot shows 100 hours of Predicted Count vs Actual count in test set. It can be seen that our prediction is pretty close to the actual value."
   ]
  },
  {
   "cell_type": "code",
   "execution_count": 20,
   "metadata": {},
   "outputs": [
    {
     "data": {
      "image/png": "[encoded data removed]",
      "text/plain": [
       "<Figure size 432x288 with 1 Axes>"
      ]
     },
     "metadata": {},
     "output_type": "display_data"
    }
   ],
   "source": [
    "fig,ax = plt.subplots()\n",
    "plt.plot(model_predictions[:100,], label='Predicted count')\n",
    "plt.plot(actual_testset_values[:100,], label='Actual count')\n",
    "ax.set_xlabel('Hours')\n",
    "ax.set_ylabel('Count (cnt)')\n",
    "plt.legend();\n",
    "plt.show()"
   ]
  },
  {
   "cell_type": "markdown",
   "metadata": {},
   "source": [
    "#### Mean absolute deviation of predicted output vs test set"
   ]
  },
  {
   "cell_type": "code",
   "execution_count": 21,
   "metadata": {},
   "outputs": [],
   "source": [
    "def get_mean_absolute_deviations(predictions,actual_values):\n",
    "    \"\"\" Compute the mean absolute deviations of predictions vs actual test set values\n",
    "        \n",
    "        Arguments:\n",
    "        * predictions: Our Model's predictions\n",
    "        * actual_values: Test set output\n",
    "    \n",
    "    \"\"\"\n",
    "    \n",
    "    # Convert numpy arrays to data frame as pandas as mean absolute deviation function we want to use\n",
    "    predictions_dataframe = pd.DataFrame(data = predictions.flatten())\n",
    "    actual_test_set_values_dataframe = pd.DataFrame(data=actual_values.flatten())\n",
    "        \n",
    "    print(\"LSTM model prediction's Mean Absolute Deviation is \", predictions_dataframe.mad()[0])\n",
    "    print(\"Test set's Mean Absolute Deviation is\", actual_test_set_values_dataframe.mad()[0])"
   ]
  },
  {
   "cell_type": "code",
   "execution_count": 22,
   "metadata": {},
   "outputs": [
    {
     "name": "stdout",
     "output_type": "stream",
     "text": [
      "LSTM model prediction's Mean Absolute Deviation is  144.7588\n",
      "Test set's Mean Absolute Deviation is 149.7246566752137\n"
     ]
    }
   ],
   "source": [
    "get_mean_absolute_deviations(model_predictions,actual_testset_values)"
   ]
  },
  {
   "cell_type": "markdown",
   "metadata": {},
   "source": [
    "## Getting Predictions"
   ]
  },
  {
   "cell_type": "markdown",
   "metadata": {},
   "source": [
    "#### Getting Real-time prediction on sequence of data"
   ]
  },
  {
   "cell_type": "code",
   "execution_count": 23,
   "metadata": {},
   "outputs": [],
   "source": [
    "def get_prediction(input_sequence):\n",
    "    \"\"\" Gets prediction of bike share count based on input sequence\n",
    "    \n",
    "    Arguments:\n",
    "    * input_sequence: <time_steps> hours of sequence data\n",
    "    \n",
    "    Returns:\n",
    "    * cnt_prediction: Predicted count value of bike share\n",
    "    \"\"\"\n",
    "    \n",
    "    prediction = model.predict(input_sequence)\n",
    "    cnt_prediction = cnt_transformer.inverse_transform(prediction)\n",
    "    return cnt_prediction\n"
   ]
  },
  {
   "cell_type": "code",
   "execution_count": 24,
   "metadata": {},
   "outputs": [
    {
     "name": "stdout",
     "output_type": "stream",
     "text": [
      "Predicted Bike Share Count for next hour based on last 7 hours of data is 20\n"
     ]
    }
   ],
   "source": [
    "arbitrary_data = np.array(\n",
    "     [[[ 4.        ,  1.        , 10.        , 22.        ,  0.        ,\n",
    "         1.        ,  2.        ,  0.14155316,  1.04616036,  0.02427978,\n",
    "         0.22737033],\n",
    "       [ 4.        ,  1.        , 10.        , 23.        ,  0.        ,\n",
    "         1.        ,  2.        ,  0.14155316,  1.04616036, -1.56390034,\n",
    "        -0.39286357],\n",
    "       [ 4.        ,  1.        , 10.        ,  0.        ,  0.        ,\n",
    "         1.        ,  2.        ,  0.24470415,  1.04616036, -0.70841156,\n",
    "        -0.73066954],\n",
    "       [ 4.        ,  1.        , 10.        ,  1.        ,  0.        ,\n",
    "         1.        ,  3.        ,  0.14155316,  1.30257816, -1.56390034,\n",
    "        -0.95218165],\n",
    "       [ 4.        ,  1.        , 10.        ,  2.        ,  0.        ,\n",
    "         1.        ,  2.        ,  0.14155316,  1.30257816, -1.56390034,\n",
    "        -0.98540846],\n",
    "       [ 4.        ,  1.        , 10.        ,  3.        ,  0.        ,\n",
    "         1.        ,  2.        ,  0.24470415,  1.04616036, -1.56390034,\n",
    "        -1.01309748],\n",
    "       [ 4.        ,  1.        , 10.        ,  4.        ,  0.        ,\n",
    "         1.        ,  2.        ,  0.24470415,  1.04616036, -1.56390034,\n",
    "        -1.00755968]]])\n",
    "print(\"Predicted Bike Share Count for next hour based on last\", time_steps,\"hours of data is\", int(get_prediction(arbitrary_data)))"
   ]
  },
  {
   "cell_type": "code",
   "execution_count": null,
   "metadata": {},
   "outputs": [],
   "source": []
  }
 ],
 "metadata": {
  "kernelspec": {
   "display_name": "Python 3",
   "language": "python",
   "name": "python3"
  },
  "language_info": {
   "codemirror_mode": {
    "name": "ipython",
    "version": 3
   },
   "file_extension": ".py",
   "mimetype": "text/x-python",
   "name": "python",
   "nbconvert_exporter": "python",
   "pygments_lexer": "ipython3",
   "version": "3.6.8"
  }
 },
 "nbformat": 4,
 "nbformat_minor": 2
}
